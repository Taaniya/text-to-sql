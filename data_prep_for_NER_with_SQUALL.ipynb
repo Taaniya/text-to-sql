{
  "nbformat": 4,
  "nbformat_minor": 0,
  "metadata": {
    "colab": {
      "provenance": []
    },
    "kernelspec": {
      "name": "python3",
      "display_name": "Python 3"
    },
    "language_info": {
      "name": "python"
    },
    "widgets": {
      "application/vnd.jupyter.widget-state+json": {
        "a0fc5e5feef94a5c8df1b236c8cd7e78": {
          "model_module": "@jupyter-widgets/controls",
          "model_name": "HBoxModel",
          "model_module_version": "1.5.0",
          "state": {
            "_dom_classes": [],
            "_model_module": "@jupyter-widgets/controls",
            "_model_module_version": "1.5.0",
            "_model_name": "HBoxModel",
            "_view_count": null,
            "_view_module": "@jupyter-widgets/controls",
            "_view_module_version": "1.5.0",
            "_view_name": "HBoxView",
            "box_style": "",
            "children": [
              "IPY_MODEL_d94959d99ea9434da140acdd0a6463fa",
              "IPY_MODEL_e72cdb1c3f824ab49e8ef3fd015e9297",
              "IPY_MODEL_1bf383add2254965a423acc5c06ac6e3"
            ],
            "layout": "IPY_MODEL_e97bece9575b414ba1065071730d0862"
          }
        },
        "d94959d99ea9434da140acdd0a6463fa": {
          "model_module": "@jupyter-widgets/controls",
          "model_name": "HTMLModel",
          "model_module_version": "1.5.0",
          "state": {
            "_dom_classes": [],
            "_model_module": "@jupyter-widgets/controls",
            "_model_module_version": "1.5.0",
            "_model_name": "HTMLModel",
            "_view_count": null,
            "_view_module": "@jupyter-widgets/controls",
            "_view_module_version": "1.5.0",
            "_view_name": "HTMLView",
            "description": "",
            "description_tooltip": null,
            "layout": "IPY_MODEL_1f7a1516b3ab48ce993535e4bde4a91e",
            "placeholder": "​",
            "style": "IPY_MODEL_2224b0365c5b461aa18a914eb792dcb4",
            "value": "Saving the dataset (1/1 shards): 100%"
          }
        },
        "e72cdb1c3f824ab49e8ef3fd015e9297": {
          "model_module": "@jupyter-widgets/controls",
          "model_name": "FloatProgressModel",
          "model_module_version": "1.5.0",
          "state": {
            "_dom_classes": [],
            "_model_module": "@jupyter-widgets/controls",
            "_model_module_version": "1.5.0",
            "_model_name": "FloatProgressModel",
            "_view_count": null,
            "_view_module": "@jupyter-widgets/controls",
            "_view_module_version": "1.5.0",
            "_view_name": "ProgressView",
            "bar_style": "success",
            "description": "",
            "description_tooltip": null,
            "layout": "IPY_MODEL_a53a132fe2c941ff994701e3d37643dc",
            "max": 50,
            "min": 0,
            "orientation": "horizontal",
            "style": "IPY_MODEL_bbffdeedf829418d9bb8d4343c5cb14f",
            "value": 50
          }
        },
        "1bf383add2254965a423acc5c06ac6e3": {
          "model_module": "@jupyter-widgets/controls",
          "model_name": "HTMLModel",
          "model_module_version": "1.5.0",
          "state": {
            "_dom_classes": [],
            "_model_module": "@jupyter-widgets/controls",
            "_model_module_version": "1.5.0",
            "_model_name": "HTMLModel",
            "_view_count": null,
            "_view_module": "@jupyter-widgets/controls",
            "_view_module_version": "1.5.0",
            "_view_name": "HTMLView",
            "description": "",
            "description_tooltip": null,
            "layout": "IPY_MODEL_e43700acd2384945afe0df3ada4cb0d0",
            "placeholder": "​",
            "style": "IPY_MODEL_fa9564c04d0d4996b49202c3e164fab5",
            "value": " 50/50 [00:00&lt;00:00, 975.86 examples/s]"
          }
        },
        "e97bece9575b414ba1065071730d0862": {
          "model_module": "@jupyter-widgets/base",
          "model_name": "LayoutModel",
          "model_module_version": "1.2.0",
          "state": {
            "_model_module": "@jupyter-widgets/base",
            "_model_module_version": "1.2.0",
            "_model_name": "LayoutModel",
            "_view_count": null,
            "_view_module": "@jupyter-widgets/base",
            "_view_module_version": "1.2.0",
            "_view_name": "LayoutView",
            "align_content": null,
            "align_items": null,
            "align_self": null,
            "border": null,
            "bottom": null,
            "display": null,
            "flex": null,
            "flex_flow": null,
            "grid_area": null,
            "grid_auto_columns": null,
            "grid_auto_flow": null,
            "grid_auto_rows": null,
            "grid_column": null,
            "grid_gap": null,
            "grid_row": null,
            "grid_template_areas": null,
            "grid_template_columns": null,
            "grid_template_rows": null,
            "height": null,
            "justify_content": null,
            "justify_items": null,
            "left": null,
            "margin": null,
            "max_height": null,
            "max_width": null,
            "min_height": null,
            "min_width": null,
            "object_fit": null,
            "object_position": null,
            "order": null,
            "overflow": null,
            "overflow_x": null,
            "overflow_y": null,
            "padding": null,
            "right": null,
            "top": null,
            "visibility": null,
            "width": null
          }
        },
        "1f7a1516b3ab48ce993535e4bde4a91e": {
          "model_module": "@jupyter-widgets/base",
          "model_name": "LayoutModel",
          "model_module_version": "1.2.0",
          "state": {
            "_model_module": "@jupyter-widgets/base",
            "_model_module_version": "1.2.0",
            "_model_name": "LayoutModel",
            "_view_count": null,
            "_view_module": "@jupyter-widgets/base",
            "_view_module_version": "1.2.0",
            "_view_name": "LayoutView",
            "align_content": null,
            "align_items": null,
            "align_self": null,
            "border": null,
            "bottom": null,
            "display": null,
            "flex": null,
            "flex_flow": null,
            "grid_area": null,
            "grid_auto_columns": null,
            "grid_auto_flow": null,
            "grid_auto_rows": null,
            "grid_column": null,
            "grid_gap": null,
            "grid_row": null,
            "grid_template_areas": null,
            "grid_template_columns": null,
            "grid_template_rows": null,
            "height": null,
            "justify_content": null,
            "justify_items": null,
            "left": null,
            "margin": null,
            "max_height": null,
            "max_width": null,
            "min_height": null,
            "min_width": null,
            "object_fit": null,
            "object_position": null,
            "order": null,
            "overflow": null,
            "overflow_x": null,
            "overflow_y": null,
            "padding": null,
            "right": null,
            "top": null,
            "visibility": null,
            "width": null
          }
        },
        "2224b0365c5b461aa18a914eb792dcb4": {
          "model_module": "@jupyter-widgets/controls",
          "model_name": "DescriptionStyleModel",
          "model_module_version": "1.5.0",
          "state": {
            "_model_module": "@jupyter-widgets/controls",
            "_model_module_version": "1.5.0",
            "_model_name": "DescriptionStyleModel",
            "_view_count": null,
            "_view_module": "@jupyter-widgets/base",
            "_view_module_version": "1.2.0",
            "_view_name": "StyleView",
            "description_width": ""
          }
        },
        "a53a132fe2c941ff994701e3d37643dc": {
          "model_module": "@jupyter-widgets/base",
          "model_name": "LayoutModel",
          "model_module_version": "1.2.0",
          "state": {
            "_model_module": "@jupyter-widgets/base",
            "_model_module_version": "1.2.0",
            "_model_name": "LayoutModel",
            "_view_count": null,
            "_view_module": "@jupyter-widgets/base",
            "_view_module_version": "1.2.0",
            "_view_name": "LayoutView",
            "align_content": null,
            "align_items": null,
            "align_self": null,
            "border": null,
            "bottom": null,
            "display": null,
            "flex": null,
            "flex_flow": null,
            "grid_area": null,
            "grid_auto_columns": null,
            "grid_auto_flow": null,
            "grid_auto_rows": null,
            "grid_column": null,
            "grid_gap": null,
            "grid_row": null,
            "grid_template_areas": null,
            "grid_template_columns": null,
            "grid_template_rows": null,
            "height": null,
            "justify_content": null,
            "justify_items": null,
            "left": null,
            "margin": null,
            "max_height": null,
            "max_width": null,
            "min_height": null,
            "min_width": null,
            "object_fit": null,
            "object_position": null,
            "order": null,
            "overflow": null,
            "overflow_x": null,
            "overflow_y": null,
            "padding": null,
            "right": null,
            "top": null,
            "visibility": null,
            "width": null
          }
        },
        "bbffdeedf829418d9bb8d4343c5cb14f": {
          "model_module": "@jupyter-widgets/controls",
          "model_name": "ProgressStyleModel",
          "model_module_version": "1.5.0",
          "state": {
            "_model_module": "@jupyter-widgets/controls",
            "_model_module_version": "1.5.0",
            "_model_name": "ProgressStyleModel",
            "_view_count": null,
            "_view_module": "@jupyter-widgets/base",
            "_view_module_version": "1.2.0",
            "_view_name": "StyleView",
            "bar_color": null,
            "description_width": ""
          }
        },
        "e43700acd2384945afe0df3ada4cb0d0": {
          "model_module": "@jupyter-widgets/base",
          "model_name": "LayoutModel",
          "model_module_version": "1.2.0",
          "state": {
            "_model_module": "@jupyter-widgets/base",
            "_model_module_version": "1.2.0",
            "_model_name": "LayoutModel",
            "_view_count": null,
            "_view_module": "@jupyter-widgets/base",
            "_view_module_version": "1.2.0",
            "_view_name": "LayoutView",
            "align_content": null,
            "align_items": null,
            "align_self": null,
            "border": null,
            "bottom": null,
            "display": null,
            "flex": null,
            "flex_flow": null,
            "grid_area": null,
            "grid_auto_columns": null,
            "grid_auto_flow": null,
            "grid_auto_rows": null,
            "grid_column": null,
            "grid_gap": null,
            "grid_row": null,
            "grid_template_areas": null,
            "grid_template_columns": null,
            "grid_template_rows": null,
            "height": null,
            "justify_content": null,
            "justify_items": null,
            "left": null,
            "margin": null,
            "max_height": null,
            "max_width": null,
            "min_height": null,
            "min_width": null,
            "object_fit": null,
            "object_position": null,
            "order": null,
            "overflow": null,
            "overflow_x": null,
            "overflow_y": null,
            "padding": null,
            "right": null,
            "top": null,
            "visibility": null,
            "width": null
          }
        },
        "fa9564c04d0d4996b49202c3e164fab5": {
          "model_module": "@jupyter-widgets/controls",
          "model_name": "DescriptionStyleModel",
          "model_module_version": "1.5.0",
          "state": {
            "_model_module": "@jupyter-widgets/controls",
            "_model_module_version": "1.5.0",
            "_model_name": "DescriptionStyleModel",
            "_view_count": null,
            "_view_module": "@jupyter-widgets/base",
            "_view_module_version": "1.2.0",
            "_view_name": "StyleView",
            "description_width": ""
          }
        }
      }
    }
  },
  "cells": [
    {
      "cell_type": "code",
      "source": [
        "! pip install datasets fuzzywuzzy"
      ],
      "metadata": {
        "colab": {
          "base_uri": "https://localhost:8080/"
        },
        "id": "02P5qd3AmUUO",
        "outputId": "06be41ce-41da-49b1-fe3e-2ea365c0c745"
      },
      "execution_count": null,
      "outputs": [
        {
          "output_type": "stream",
          "name": "stdout",
          "text": [
            "Requirement already satisfied: datasets in /usr/local/lib/python3.10/dist-packages (2.19.0)\n",
            "Collecting fuzzywuzzy\n",
            "  Downloading fuzzywuzzy-0.18.0-py2.py3-none-any.whl (18 kB)\n",
            "Requirement already satisfied: filelock in /usr/local/lib/python3.10/dist-packages (from datasets) (3.14.0)\n",
            "Requirement already satisfied: numpy>=1.17 in /usr/local/lib/python3.10/dist-packages (from datasets) (1.25.2)\n",
            "Requirement already satisfied: pyarrow>=12.0.0 in /usr/local/lib/python3.10/dist-packages (from datasets) (14.0.2)\n",
            "Requirement already satisfied: pyarrow-hotfix in /usr/local/lib/python3.10/dist-packages (from datasets) (0.6)\n",
            "Requirement already satisfied: dill<0.3.9,>=0.3.0 in /usr/local/lib/python3.10/dist-packages (from datasets) (0.3.8)\n",
            "Requirement already satisfied: pandas in /usr/local/lib/python3.10/dist-packages (from datasets) (2.0.3)\n",
            "Requirement already satisfied: requests>=2.19.0 in /usr/local/lib/python3.10/dist-packages (from datasets) (2.31.0)\n",
            "Requirement already satisfied: tqdm>=4.62.1 in /usr/local/lib/python3.10/dist-packages (from datasets) (4.66.2)\n",
            "Requirement already satisfied: xxhash in /usr/local/lib/python3.10/dist-packages (from datasets) (3.4.1)\n",
            "Requirement already satisfied: multiprocess in /usr/local/lib/python3.10/dist-packages (from datasets) (0.70.16)\n",
            "Requirement already satisfied: fsspec[http]<=2024.3.1,>=2023.1.0 in /usr/local/lib/python3.10/dist-packages (from datasets) (2023.6.0)\n",
            "Requirement already satisfied: aiohttp in /usr/local/lib/python3.10/dist-packages (from datasets) (3.9.5)\n",
            "Requirement already satisfied: huggingface-hub>=0.21.2 in /usr/local/lib/python3.10/dist-packages (from datasets) (0.23.0)\n",
            "Requirement already satisfied: packaging in /usr/local/lib/python3.10/dist-packages (from datasets) (24.0)\n",
            "Requirement already satisfied: pyyaml>=5.1 in /usr/local/lib/python3.10/dist-packages (from datasets) (6.0.1)\n",
            "Requirement already satisfied: aiosignal>=1.1.2 in /usr/local/lib/python3.10/dist-packages (from aiohttp->datasets) (1.3.1)\n",
            "Requirement already satisfied: attrs>=17.3.0 in /usr/local/lib/python3.10/dist-packages (from aiohttp->datasets) (23.2.0)\n",
            "Requirement already satisfied: frozenlist>=1.1.1 in /usr/local/lib/python3.10/dist-packages (from aiohttp->datasets) (1.4.1)\n",
            "Requirement already satisfied: multidict<7.0,>=4.5 in /usr/local/lib/python3.10/dist-packages (from aiohttp->datasets) (6.0.5)\n",
            "Requirement already satisfied: yarl<2.0,>=1.0 in /usr/local/lib/python3.10/dist-packages (from aiohttp->datasets) (1.9.4)\n",
            "Requirement already satisfied: async-timeout<5.0,>=4.0 in /usr/local/lib/python3.10/dist-packages (from aiohttp->datasets) (4.0.3)\n",
            "Requirement already satisfied: typing-extensions>=3.7.4.3 in /usr/local/lib/python3.10/dist-packages (from huggingface-hub>=0.21.2->datasets) (4.11.0)\n",
            "Requirement already satisfied: charset-normalizer<4,>=2 in /usr/local/lib/python3.10/dist-packages (from requests>=2.19.0->datasets) (3.3.2)\n",
            "Requirement already satisfied: idna<4,>=2.5 in /usr/local/lib/python3.10/dist-packages (from requests>=2.19.0->datasets) (3.7)\n",
            "Requirement already satisfied: urllib3<3,>=1.21.1 in /usr/local/lib/python3.10/dist-packages (from requests>=2.19.0->datasets) (2.0.7)\n",
            "Requirement already satisfied: certifi>=2017.4.17 in /usr/local/lib/python3.10/dist-packages (from requests>=2.19.0->datasets) (2024.2.2)\n",
            "Requirement already satisfied: python-dateutil>=2.8.2 in /usr/local/lib/python3.10/dist-packages (from pandas->datasets) (2.8.2)\n",
            "Requirement already satisfied: pytz>=2020.1 in /usr/local/lib/python3.10/dist-packages (from pandas->datasets) (2023.4)\n",
            "Requirement already satisfied: tzdata>=2022.1 in /usr/local/lib/python3.10/dist-packages (from pandas->datasets) (2024.1)\n",
            "Requirement already satisfied: six>=1.5 in /usr/local/lib/python3.10/dist-packages (from python-dateutil>=2.8.2->pandas->datasets) (1.16.0)\n",
            "Installing collected packages: fuzzywuzzy\n",
            "Successfully installed fuzzywuzzy-0.18.0\n"
          ]
        }
      ]
    },
    {
      "cell_type": "markdown",
      "source": [
        "Download `dataset.py` and `utils.py` from the repository by original paper authors [here](https://github.com/tzshi/squall/tree/main/model)"
      ],
      "metadata": {
        "id": "c6qeUznk1h5z"
      }
    },
    {
      "cell_type": "code",
      "execution_count": null,
      "metadata": {
        "id": "IEVVbSPGk1UQ"
      },
      "outputs": [],
      "source": [
        "import torch\n",
        "from dataset import load_dataset, em_process"
      ]
    },
    {
      "cell_type": "code",
      "source": [
        "DATASET_PATH = \"squall.json\""
      ],
      "metadata": {
        "id": "sIiQx92ymYdH"
      },
      "execution_count": null,
      "outputs": []
    },
    {
      "cell_type": "markdown",
      "source": [
        "#### Load and explore SQUALL dataset"
      ],
      "metadata": {
        "id": "ShKMe5FRpv8L"
      }
    },
    {
      "cell_type": "code",
      "source": [
        "train_data = load_dataset(DATASET_PATH)"
      ],
      "metadata": {
        "id": "RTDY0bxJmySw"
      },
      "execution_count": null,
      "outputs": []
    },
    {
      "cell_type": "code",
      "source": [
        "train_data[0]"
      ],
      "metadata": {
        "colab": {
          "base_uri": "https://localhost:8080/"
        },
        "id": "fEH_knW7myPJ",
        "outputId": "845ca2d4-19f3-44a0-e03b-10ad40550c97"
      },
      "execution_count": null,
      "outputs": [
        {
          "output_type": "execute_result",
          "data": {
            "text/plain": [
              "{'nt': 'nt-2254',\n",
              " 'columns': [['constituency', ['constituency'], ['number'], 'number', '1'],\n",
              "  ['region', ['region'], [], 'text', 'arica and parinacota\\ntarapaca'],\n",
              "  ['name',\n",
              "   ['name'],\n",
              "   ['first', 'second'],\n",
              "   'text(text)',\n",
              "   'jose antonio gomez urrutia\\n(vice-president, march 11, 2010-march 15, 2011; march 20, 2013-present)'],\n",
              "  ['party', ['party'], [], 'text', 'ps'],\n",
              "  ['last elected', ['last', 'elected'], ['number'], 'number', '2009']],\n",
              " 'nl': ['what',\n",
              "  'is',\n",
              "  'the',\n",
              "  'difference',\n",
              "  'in',\n",
              "  'years',\n",
              "  'between',\n",
              "  'constiuency',\n",
              "  '1',\n",
              "  'and',\n",
              "  '2',\n",
              "  '?'],\n",
              " 'nl_pos': ['WP',\n",
              "  'VBD-AUX',\n",
              "  'DT',\n",
              "  'NN',\n",
              "  'IN',\n",
              "  'NNS',\n",
              "  'IN',\n",
              "  'NN',\n",
              "  'CD',\n",
              "  'CC',\n",
              "  'CD',\n",
              "  '.'],\n",
              " 'nl_ner': ['O',\n",
              "  'O',\n",
              "  'O',\n",
              "  'O',\n",
              "  'O',\n",
              "  'DURATION',\n",
              "  'O',\n",
              "  'O',\n",
              "  'NUMBER',\n",
              "  'O',\n",
              "  'NUMBER',\n",
              "  'O'],\n",
              " 'nl_ralign': [['None', None],\n",
              "  ['None', None],\n",
              "  ['None', None],\n",
              "  ['Keyword', ['diff', '']],\n",
              "  ['None', None],\n",
              "  ['Column', 'c5_number'],\n",
              "  ['Keyword', ['diff', '']],\n",
              "  ['Column', 'c1_number'],\n",
              "  ['Literal', None],\n",
              "  ['Keyword', ['diff', '']],\n",
              "  ['Literal', None],\n",
              "  ['None', None]],\n",
              " 'nl_typebio': ['O',\n",
              "  'O',\n",
              "  'O',\n",
              "  'B-Keyword',\n",
              "  'O',\n",
              "  'B-Column',\n",
              "  'B-Keyword',\n",
              "  'B-Column',\n",
              "  'Number',\n",
              "  'B-Keyword',\n",
              "  'Number',\n",
              "  'O'],\n",
              " 'nl_typebio_col': [None,\n",
              "  None,\n",
              "  None,\n",
              "  None,\n",
              "  None,\n",
              "  'c5',\n",
              "  None,\n",
              "  'c1',\n",
              "  'c1_number',\n",
              "  None,\n",
              "  'c1_number',\n",
              "  None],\n",
              " 'nl_incolumns': [False,\n",
              "  False,\n",
              "  False,\n",
              "  False,\n",
              "  False,\n",
              "  False,\n",
              "  False,\n",
              "  False,\n",
              "  False,\n",
              "  False,\n",
              "  False,\n",
              "  False],\n",
              " 'nl_incells': [False,\n",
              "  False,\n",
              "  False,\n",
              "  False,\n",
              "  False,\n",
              "  False,\n",
              "  False,\n",
              "  False,\n",
              "  True,\n",
              "  True,\n",
              "  True,\n",
              "  False],\n",
              " 'columns_innl': [False, False, False, False, False],\n",
              " 'tgt': '4 years',\n",
              " 'tbl': '203_447',\n",
              " 'sql': [['Keyword', 'select', []],\n",
              "  ['Keyword', '(', []],\n",
              "  ['Keyword', 'select', []],\n",
              "  ['Column', 'c5_number', []],\n",
              "  ['Keyword', 'from', []],\n",
              "  ['Keyword', 'w', []],\n",
              "  ['Keyword', 'where', []],\n",
              "  ['Column', 'c1_number', []],\n",
              "  ['Keyword', '=', []],\n",
              "  ['Literal.Number', '1', [8]],\n",
              "  ['Keyword', ')', []],\n",
              "  ['Keyword', '-', []],\n",
              "  ['Keyword', '(', []],\n",
              "  ['Keyword', 'select', []],\n",
              "  ['Column', 'c5_number', []],\n",
              "  ['Keyword', 'from', []],\n",
              "  ['Keyword', 'w', []],\n",
              "  ['Keyword', 'where', []],\n",
              "  ['Column', 'c1_number', []],\n",
              "  ['Keyword', '=', []],\n",
              "  ['Literal.Number', '2', [10]],\n",
              "  ['Keyword', ')', []]],\n",
              " 'align': [[[8], [9]],\n",
              "  [[7], [7]],\n",
              "  [[10], [20]],\n",
              "  [[7], [18]],\n",
              "  [[3, 6, 9], [0, 1, 10, 11, 12, 21]],\n",
              "  [[5], [3]],\n",
              "  [[5], [14]]],\n",
              " 'numbers': [None,\n",
              "  None,\n",
              "  None,\n",
              "  None,\n",
              "  None,\n",
              "  None,\n",
              "  None,\n",
              "  None,\n",
              "  '1',\n",
              "  None,\n",
              "  '2',\n",
              "  None],\n",
              " 'has_number': True}"
            ]
          },
          "metadata": {},
          "execution_count": 22
        }
      ]
    },
    {
      "cell_type": "code",
      "source": [
        "# alignment annotation of NLQ with SQL typed labels\n",
        "\n",
        "train_data[0]['nl_ralign']"
      ],
      "metadata": {
        "colab": {
          "base_uri": "https://localhost:8080/"
        },
        "id": "InECF-wFmyJy",
        "outputId": "dd625d2a-3b08-4b09-e63b-d5418bd40e55"
      },
      "execution_count": null,
      "outputs": [
        {
          "output_type": "execute_result",
          "data": {
            "text/plain": [
              "[['None', None],\n",
              " ['None', None],\n",
              " ['None', None],\n",
              " ['Keyword', ['diff', '']],\n",
              " ['None', None],\n",
              " ['Column', 'c5_number'],\n",
              " ['Keyword', ['diff', '']],\n",
              " ['Column', 'c1_number'],\n",
              " ['Literal', None],\n",
              " ['Keyword', ['diff', '']],\n",
              " ['Literal', None],\n",
              " ['None', None]]"
            ]
          },
          "metadata": {},
          "execution_count": 24
        }
      ]
    },
    {
      "cell_type": "code",
      "source": [
        "# tokenized NLQ (Natural Language question)\n",
        "\n",
        "train_data[0]['nl']"
      ],
      "metadata": {
        "colab": {
          "base_uri": "https://localhost:8080/"
        },
        "id": "AvJBhBUemyGh",
        "outputId": "ee451876-7e62-4498-9291-7a1313c176d7"
      },
      "execution_count": null,
      "outputs": [
        {
          "output_type": "execute_result",
          "data": {
            "text/plain": [
              "['what',\n",
              " 'is',\n",
              " 'the',\n",
              " 'difference',\n",
              " 'in',\n",
              " 'years',\n",
              " 'between',\n",
              " 'constiuency',\n",
              " '1',\n",
              " 'and',\n",
              " '2',\n",
              " '?']"
            ]
          },
          "metadata": {},
          "execution_count": 25
        }
      ]
    },
    {
      "cell_type": "code",
      "source": [
        "# columns of table headers for this NLQ\n",
        "\n",
        "train_data[0]['columns']"
      ],
      "metadata": {
        "colab": {
          "base_uri": "https://localhost:8080/"
        },
        "id": "EqYbJLRXmyCU",
        "outputId": "d085052d-27ec-4455-edff-44b592989f51"
      },
      "execution_count": null,
      "outputs": [
        {
          "output_type": "execute_result",
          "data": {
            "text/plain": [
              "[['constituency', ['constituency'], ['number'], 'number', '1'],\n",
              " ['region', ['region'], [], 'text', 'arica and parinacota\\ntarapaca'],\n",
              " ['name',\n",
              "  ['name'],\n",
              "  ['first', 'second'],\n",
              "  'text(text)',\n",
              "  'jose antonio gomez urrutia\\n(vice-president, march 11, 2010-march 15, 2011; march 20, 2013-present)'],\n",
              " ['party', ['party'], [], 'text', 'ps'],\n",
              " ['last elected', ['last', 'elected'], ['number'], 'number', '2009']]"
            ]
          },
          "metadata": {},
          "execution_count": 26
        }
      ]
    },
    {
      "cell_type": "code",
      "source": [
        "train_data[0]['columns'][0]"
      ],
      "metadata": {
        "id": "JRh4Dwd1posD"
      },
      "execution_count": null,
      "outputs": []
    },
    {
      "cell_type": "markdown",
      "source": [
        "### Transform into BIO format for NER task"
      ],
      "metadata": {
        "id": "xXRLUIwxp0vX"
      }
    },
    {
      "cell_type": "code",
      "source": [
        "SAMPLE_SIZE = 50\n",
        "BIO_LABEL_MAP = {\n",
        "    \"None\": \"O\",\n",
        "    \"Keyword\": \"O\",\n",
        "    \"Column\": \"B-COLUMN\",\n",
        "    \"Literal\": \"B-LITERAL\"\n",
        "}"
      ],
      "metadata": {
        "id": "JIyK1tFspooZ"
      },
      "execution_count": null,
      "outputs": []
    },
    {
      "cell_type": "markdown",
      "source": [
        "#### Get tokenized nlq for 1st K rows"
      ],
      "metadata": {
        "id": "cwviXJoCqSFa"
      }
    },
    {
      "cell_type": "code",
      "source": [
        "nlq_list = []\n",
        "for i in range(SAMPLE_SIZE):\n",
        "  nlq_list.append(train_data[i]['nl'])"
      ],
      "metadata": {
        "id": "ypfMinPzpolX"
      },
      "execution_count": null,
      "outputs": []
    },
    {
      "cell_type": "code",
      "source": [
        "len(nlq_list)"
      ],
      "metadata": {
        "colab": {
          "base_uri": "https://localhost:8080/"
        },
        "id": "arJmmYQNpoiZ",
        "outputId": "11922c56-001a-4eb6-cf69-98546e3222d7"
      },
      "execution_count": null,
      "outputs": [
        {
          "output_type": "execute_result",
          "data": {
            "text/plain": [
              "50"
            ]
          },
          "metadata": {},
          "execution_count": 29
        }
      ]
    },
    {
      "cell_type": "code",
      "source": [
        "nlq_list[:5]"
      ],
      "metadata": {
        "colab": {
          "base_uri": "https://localhost:8080/"
        },
        "id": "XuqP7U8ppoeP",
        "outputId": "fae7ee2d-bec2-41d4-d9f7-5ed11e97094f"
      },
      "execution_count": null,
      "outputs": [
        {
          "output_type": "execute_result",
          "data": {
            "text/plain": [
              "[['what',\n",
              "  'is',\n",
              "  'the',\n",
              "  'difference',\n",
              "  'in',\n",
              "  'years',\n",
              "  'between',\n",
              "  'constiuency',\n",
              "  '1',\n",
              "  'and',\n",
              "  '2',\n",
              "  '?'],\n",
              " ['what', 'is', 'the', 'total', 'number', 'of', 'constituencies', '?'],\n",
              " ['which', 'region', 'is', 'listed', 'below', 'atacama', '?'],\n",
              " ['which', 'party', 'did', 'jaime', 'quintana', 'belong', 'to', '?'],\n",
              " ['what', 'is', 'the', 'last', 'region', 'listed', 'on', 'the', 'table', '?']]"
            ]
          },
          "metadata": {},
          "execution_count": 30
        }
      ]
    },
    {
      "cell_type": "markdown",
      "source": [
        "#### Get column list for the same samples above"
      ],
      "metadata": {
        "id": "kzLatyulql6l"
      }
    },
    {
      "cell_type": "code",
      "source": [
        "columns_list = []\n",
        "for i in range(SAMPLE_SIZE):\n",
        "  col_list_per_nlq = []\n",
        "  for column_list in train_data[i]['columns']:\n",
        "    col_list_per_nlq.append(column_list[0])\n",
        "  columns_list.append(col_list_per_nlq)"
      ],
      "metadata": {
        "id": "7uQFTMmcpoaa"
      },
      "execution_count": null,
      "outputs": []
    },
    {
      "cell_type": "code",
      "source": [
        "len(columns_list)"
      ],
      "metadata": {
        "colab": {
          "base_uri": "https://localhost:8080/"
        },
        "id": "wKAUoDtcrME7",
        "outputId": "5af78bde-6833-48fd-ed74-13931ea47d91"
      },
      "execution_count": null,
      "outputs": [
        {
          "output_type": "execute_result",
          "data": {
            "text/plain": [
              "50"
            ]
          },
          "metadata": {},
          "execution_count": 32
        }
      ]
    },
    {
      "cell_type": "code",
      "source": [
        "columns_list[8:15]"
      ],
      "metadata": {
        "colab": {
          "base_uri": "https://localhost:8080/"
        },
        "id": "xDcTfrVMrMBg",
        "outputId": "5141b8d8-ee3a-45da-f8c9-75fc71f2506f"
      },
      "execution_count": null,
      "outputs": [
        {
          "output_type": "execute_result",
          "data": {
            "text/plain": [
              "[['constituency', 'region', 'name', 'party', 'last elected'],\n",
              " ['event', 'date', 'area', 'tornadoes', 'casualties', 'notes'],\n",
              " ['event', 'date', 'area', 'tornadoes', 'casualties', 'notes'],\n",
              " ['event', 'date', 'area', 'tornadoes', 'casualties', 'notes'],\n",
              " ['type', 'stage', 'cyclist', 'team', 'reason'],\n",
              " ['type', 'stage', 'cyclist', 'team', 'reason'],\n",
              " ['type', 'stage', 'cyclist', 'team', 'reason']]"
            ]
          },
          "metadata": {},
          "execution_count": 37
        }
      ]
    },
    {
      "cell_type": "markdown",
      "source": [
        "#### Get SQL type labels for each mention in tokenized NLQ"
      ],
      "metadata": {
        "id": "uR9M8qnSrZTL"
      }
    },
    {
      "cell_type": "code",
      "source": [
        "sql_labels = []\n",
        "\n",
        "for i in range(SAMPLE_SIZE):\n",
        "  sql_label_per_token = []\n",
        "  for token in train_data[i]['nl_ralign']:\n",
        "    sql_label_per_token.append(BIO_LABEL_MAP[token[0]])\n",
        "  sql_labels.append(sql_label_per_token)"
      ],
      "metadata": {
        "id": "sFmmz_G7rL-u"
      },
      "execution_count": null,
      "outputs": []
    },
    {
      "cell_type": "code",
      "source": [
        "len(sql_labels)"
      ],
      "metadata": {
        "colab": {
          "base_uri": "https://localhost:8080/"
        },
        "id": "kgYUs5FKrL8M",
        "outputId": "b8aeff2b-7b49-4480-cf98-67f02fafb60e"
      },
      "execution_count": null,
      "outputs": [
        {
          "output_type": "execute_result",
          "data": {
            "text/plain": [
              "50"
            ]
          },
          "metadata": {},
          "execution_count": 39
        }
      ]
    },
    {
      "cell_type": "code",
      "source": [
        "sql_labels[:5]"
      ],
      "metadata": {
        "colab": {
          "base_uri": "https://localhost:8080/"
        },
        "id": "MDWcNjiFsAT6",
        "outputId": "f2e50bfb-f67a-45a4-c5c5-13e38af2f98e"
      },
      "execution_count": null,
      "outputs": [
        {
          "output_type": "execute_result",
          "data": {
            "text/plain": [
              "[['O',\n",
              "  'O',\n",
              "  'O',\n",
              "  'O',\n",
              "  'O',\n",
              "  'B-COLUMN',\n",
              "  'O',\n",
              "  'B-COLUMN',\n",
              "  'B-LITERAL',\n",
              "  'O',\n",
              "  'B-LITERAL',\n",
              "  'O'],\n",
              " ['O', 'O', 'O', 'O', 'O', 'O', 'B-COLUMN', 'O'],\n",
              " ['O', 'B-COLUMN', 'O', 'O', 'O', 'B-LITERAL', 'O'],\n",
              " ['O', 'B-COLUMN', 'O', 'B-LITERAL', 'B-LITERAL', 'O', 'O', 'O'],\n",
              " ['O', 'O', 'O', 'O', 'B-COLUMN', 'O', 'O', 'O', 'O', 'O']]"
            ]
          },
          "metadata": {},
          "execution_count": 40
        }
      ]
    },
    {
      "cell_type": "markdown",
      "source": [
        "#### Get question IDs"
      ],
      "metadata": {
        "id": "tOU3dQgTrh2r"
      }
    },
    {
      "cell_type": "code",
      "source": [
        "qids = []\n",
        "for i in range(SAMPLE_SIZE):\n",
        "  qids.append(train_data[i]['nt'])"
      ],
      "metadata": {
        "id": "WsCv_65lsAQk"
      },
      "execution_count": null,
      "outputs": []
    },
    {
      "cell_type": "code",
      "source": [
        "len(qids)"
      ],
      "metadata": {
        "colab": {
          "base_uri": "https://localhost:8080/"
        },
        "id": "VTCA4k6NrL5p",
        "outputId": "208ad48b-10d2-4acb-92f7-b1b8f5679788"
      },
      "execution_count": null,
      "outputs": [
        {
          "output_type": "execute_result",
          "data": {
            "text/plain": [
              "50"
            ]
          },
          "metadata": {},
          "execution_count": 42
        }
      ]
    },
    {
      "cell_type": "code",
      "source": [
        "qids[:10]"
      ],
      "metadata": {
        "colab": {
          "base_uri": "https://localhost:8080/"
        },
        "id": "S30xrJV3sP38",
        "outputId": "5a5f88b8-7e8a-4c87-be17-96a5043e12ef"
      },
      "execution_count": null,
      "outputs": [
        {
          "output_type": "execute_result",
          "data": {
            "text/plain": [
              "['nt-2254',\n",
              " 'nt-3125',\n",
              " 'nt-3264',\n",
              " 'nt-6446',\n",
              " 'nt-7882',\n",
              " 'nt-8692',\n",
              " 'nt-9126',\n",
              " 'nt-9181',\n",
              " 'nt-12427',\n",
              " 'nt-525']"
            ]
          },
          "metadata": {},
          "execution_count": 44
        }
      ]
    },
    {
      "cell_type": "markdown",
      "source": [
        "### Convert sample to datasets instance for model training"
      ],
      "metadata": {
        "id": "-dCnMFhCrl7M"
      }
    },
    {
      "cell_type": "code",
      "source": [
        "import pandas as pd\n",
        "\n",
        "from datasets import load_dataset, Dataset, DatasetDict\n",
        "from datasets import Features, ClassLabel, Sequence, Value"
      ],
      "metadata": {
        "id": "Ofj6xK-zsR43"
      },
      "execution_count": null,
      "outputs": []
    },
    {
      "cell_type": "code",
      "source": [
        "# Collect above samples into a dictionary of features\n",
        "\n",
        "squall_dict = {\n",
        "    \"ner_tags\": sql_labels,\n",
        "    \"nl\": nlq_list,\n",
        "    \"nt\": qids,\n",
        "    \"columns\": columns_list\n",
        "}"
      ],
      "metadata": {
        "id": "nwf615jFsU5H"
      },
      "execution_count": null,
      "outputs": []
    },
    {
      "cell_type": "code",
      "source": [
        "# Define features - data type for each value for keys in above dictionary\n",
        "squall_features = Features({\n",
        " \"nl\": Sequence(feature=Value(dtype='string', id=None), length=-1, id=None),\n",
        " \"columns\": Sequence(feature=Value(dtype='string', id=None), length=-1, id=None),\n",
        " \"ner_tags\": Sequence(feature=ClassLabel(names=['O', 'B-COLUMN', 'I-COLUMN',\n",
        "                                                'B-LITERAL', 'I-LITERAL'],\n",
        "                                              id=None), length=-1, id=None),\n",
        " \"nt\": Value(dtype='string', id=None)\n",
        "})"
      ],
      "metadata": {
        "id": "E6p2RNAjsU1x"
      },
      "execution_count": null,
      "outputs": []
    },
    {
      "cell_type": "code",
      "source": [
        "squall_dataset = Dataset.from_dict(\n",
        "    mapping=squall_dict,\n",
        "    features=squall_features,\n",
        "    split='train'\n",
        ")"
      ],
      "metadata": {
        "id": "pkeGaLRjsUy7"
      },
      "execution_count": null,
      "outputs": []
    },
    {
      "cell_type": "code",
      "source": [
        "squall_dataset_df = DatasetDict()\n",
        "squall_dataset_df['train'] = squall_dataset"
      ],
      "metadata": {
        "id": "xd-ibAt-sUwQ"
      },
      "execution_count": null,
      "outputs": []
    },
    {
      "cell_type": "code",
      "source": [
        "squall_dataset_df"
      ],
      "metadata": {
        "colab": {
          "base_uri": "https://localhost:8080/"
        },
        "id": "oyElaccRsUtb",
        "outputId": "550a5041-f008-49eb-95b5-9c91021e2048"
      },
      "execution_count": null,
      "outputs": [
        {
          "output_type": "execute_result",
          "data": {
            "text/plain": [
              "DatasetDict({\n",
              "    train: Dataset({\n",
              "        features: ['ner_tags', 'nl', 'nt', 'columns'],\n",
              "        num_rows: 50\n",
              "    })\n",
              "})"
            ]
          },
          "metadata": {},
          "execution_count": 50
        }
      ]
    },
    {
      "cell_type": "code",
      "source": [
        "squall_dataset_df['train'][0]"
      ],
      "metadata": {
        "colab": {
          "base_uri": "https://localhost:8080/"
        },
        "id": "6na5L53xsUqb",
        "outputId": "5eacc50a-b720-4b14-fd9c-a2e6ffc9a24d"
      },
      "execution_count": null,
      "outputs": [
        {
          "output_type": "execute_result",
          "data": {
            "text/plain": [
              "{'ner_tags': [0, 0, 0, 0, 0, 1, 0, 1, 3, 0, 3, 0],\n",
              " 'nl': ['what',\n",
              "  'is',\n",
              "  'the',\n",
              "  'difference',\n",
              "  'in',\n",
              "  'years',\n",
              "  'between',\n",
              "  'constiuency',\n",
              "  '1',\n",
              "  'and',\n",
              "  '2',\n",
              "  '?'],\n",
              " 'nt': 'nt-2254',\n",
              " 'columns': ['constituency', 'region', 'name', 'party', 'last elected']}"
            ]
          },
          "metadata": {},
          "execution_count": 51
        }
      ]
    },
    {
      "cell_type": "markdown",
      "source": [
        "Notice that the ner_tags are automatically converted to integers from their NER labels provided in the dictionary form. Defining the features with `Sequence` & `ClassLabel` instances enables the `dataset` to infer the data type & perform conversion wherever neccessary."
      ],
      "metadata": {
        "id": "m84k2q7lxDd6"
      }
    },
    {
      "cell_type": "code",
      "source": [
        "# NER tags for a sample of 1st 5 cases (with NER tags)\n",
        "squall_dict['ner_tags'][:5]"
      ],
      "metadata": {
        "colab": {
          "base_uri": "https://localhost:8080/"
        },
        "id": "03ms2owesUnO",
        "outputId": "4b3cee02-c9b3-42e5-9dad-a47e33e6388b"
      },
      "execution_count": null,
      "outputs": [
        {
          "output_type": "execute_result",
          "data": {
            "text/plain": [
              "[['O',\n",
              "  'O',\n",
              "  'O',\n",
              "  'O',\n",
              "  'O',\n",
              "  'B-COLUMN',\n",
              "  'O',\n",
              "  'B-COLUMN',\n",
              "  'B-LITERAL',\n",
              "  'O',\n",
              "  'B-LITERAL',\n",
              "  'O'],\n",
              " ['O', 'O', 'O', 'O', 'O', 'O', 'B-COLUMN', 'O'],\n",
              " ['O', 'B-COLUMN', 'O', 'O', 'O', 'B-LITERAL', 'O'],\n",
              " ['O', 'B-COLUMN', 'O', 'B-LITERAL', 'B-LITERAL', 'O', 'O', 'O'],\n",
              " ['O', 'O', 'O', 'O', 'B-COLUMN', 'O', 'O', 'O', 'O', 'O']]"
            ]
          },
          "metadata": {},
          "execution_count": 55
        }
      ]
    },
    {
      "cell_type": "code",
      "source": [
        "# Save this dataset to disk\n",
        "squall_dataset_df.save_to_disk(\"squall_sample_dataset\")"
      ],
      "metadata": {
        "colab": {
          "base_uri": "https://localhost:8080/",
          "height": 49,
          "referenced_widgets": [
            "a0fc5e5feef94a5c8df1b236c8cd7e78",
            "d94959d99ea9434da140acdd0a6463fa",
            "e72cdb1c3f824ab49e8ef3fd015e9297",
            "1bf383add2254965a423acc5c06ac6e3",
            "e97bece9575b414ba1065071730d0862",
            "1f7a1516b3ab48ce993535e4bde4a91e",
            "2224b0365c5b461aa18a914eb792dcb4",
            "a53a132fe2c941ff994701e3d37643dc",
            "bbffdeedf829418d9bb8d4343c5cb14f",
            "e43700acd2384945afe0df3ada4cb0d0",
            "fa9564c04d0d4996b49202c3e164fab5"
          ]
        },
        "id": "45CJdvEFsUkR",
        "outputId": "378267e9-a6c3-48a4-8f1d-143a3f614386"
      },
      "execution_count": null,
      "outputs": [
        {
          "output_type": "display_data",
          "data": {
            "text/plain": [
              "Saving the dataset (0/1 shards):   0%|          | 0/50 [00:00<?, ? examples/s]"
            ],
            "application/vnd.jupyter.widget-view+json": {
              "version_major": 2,
              "version_minor": 0,
              "model_id": "a0fc5e5feef94a5c8df1b236c8cd7e78"
            }
          },
          "metadata": {}
        }
      ]
    },
    {
      "cell_type": "markdown",
      "source": [
        "### References\n",
        "* SQUALL paper - https://arxiv.org/pdf/2010.11246\n",
        "* https://github.com/tzshi/squall\n",
        "* https://huggingface.co/docs/datasets/en/about_dataset_features\n",
        "* https://huggingface.co/docs/datasets/v2.19.0/en/package_reference/main_classes#datasets.Sequence\n",
        "* https://huggingface.co/docs/datasets/v2.19.0/en/package_reference/main_classes#datasets.Dataset"
      ],
      "metadata": {
        "id": "zzFKfShUmZDG"
      }
    }
  ]
}
